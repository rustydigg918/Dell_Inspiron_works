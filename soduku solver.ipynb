{
 "cells": [
  {
   "cell_type": "code",
   "execution_count": null,
   "metadata": {},
   "outputs": [],
   "source": [
    "# Soduku grid\n",
    "grid = [[7,0,0,4,0,2,1,0,0],\n",
    "        [3,0,1,0,7,9,2,0,0],\n",
    "        [0,9,0,0,0,1,0,0,0],\n",
    "        [0,0,0,0,0,0,0,0,8],\n",
    "        [8,0,6,0,0,0,7,0,0],\n",
    "        [0,0,0,0,0,0,3,6,0],\n",
    "        [2,0,0,0,1,5,8,0,0],\n",
    "        [0,0,5,0,0,3,0,0,0],\n",
    "        [0,0,0,0,0,0,0,5,7]\n",
    "        ]"
   ]
  },
  {
   "cell_type": "code",
   "execution_count": null,
   "metadata": {},
   "outputs": [],
   "source": [
    "import numpy as np\n",
    "print(np.matrix(grid))"
   ]
  },
  {
   "cell_type": "code",
   "execution_count": null,
   "metadata": {},
   "outputs": [],
   "source": [
    "def possible(y,x,n):\n",
    "    global grid\n",
    "    for i in range(0,9):\n",
    "        if grid[y][i] == n:\n",
    "            return False\n",
    "    for i in range(0,9):\n",
    "        if grid[i][x] == n:\n",
    "            return False\n",
    "    x0 = (x//3)*3\n",
    "    y0 = (y//3)*3\n",
    "    for i in range(0,3):\n",
    "        for j in range(0,3):\n",
    "            if grid [y0+i][x0+j] == n:\n",
    "                return False\n",
    "    return True   "
   ]
  },
  {
   "cell_type": "code",
   "execution_count": null,
   "metadata": {},
   "outputs": [],
   "source": [
    "possible(4,4,5)"
   ]
  },
  {
   "cell_type": "code",
   "execution_count": null,
   "metadata": {},
   "outputs": [],
   "source": [
    "# Now lets write a solver method\n",
    "def solve():\n",
    "    global grid\n",
    "    for y in range(9):\n",
    "        for x in range(9):\n",
    "            if grid[y][x] == 0:\n",
    "                for n in range(1,10):\n",
    "                    if possible(y,x,n):\n",
    "                        grid[y][x] = n\n",
    "                        solve()\n",
    "                        grid[y][x] = 0\n",
    "                return\n",
    "    print(np.matrix(grid))\n",
    "    input('More?')\n"
   ]
  },
  {
   "cell_type": "code",
   "execution_count": null,
   "metadata": {},
   "outputs": [],
   "source": [
    "solve()"
   ]
  },
  {
   "cell_type": "code",
   "execution_count": null,
   "metadata": {},
   "outputs": [],
   "source": []
  }
 ],
 "metadata": {
  "kernelspec": {
   "display_name": "Python 3",
   "language": "python",
   "name": "python3"
  },
  "language_info": {
   "codemirror_mode": {
    "name": "ipython",
    "version": 3
   },
   "file_extension": ".py",
   "mimetype": "text/x-python",
   "name": "python",
   "nbconvert_exporter": "python",
   "pygments_lexer": "ipython3",
   "version": "3.7.6"
  }
 },
 "nbformat": 4,
 "nbformat_minor": 4
}
